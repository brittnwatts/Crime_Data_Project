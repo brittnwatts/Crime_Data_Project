{
 "cells": [
  {
   "cell_type": "code",
   "execution_count": 1,
   "id": "f5f60934",
   "metadata": {},
   "outputs": [],
   "source": [
    "# Imports\n",
    "import requests\n",
    "import json\n",
    "from pprint import pprint\n",
    "from config import api_key"
   ]
  },
  {
   "cell_type": "code",
   "execution_count": 2,
   "id": "98a348a1",
   "metadata": {},
   "outputs": [],
   "source": [
    "# Imports for calculations\n",
    "import pandas as pd\n",
    "import numpy as np"
   ]
  },
  {
   "cell_type": "code",
   "execution_count": 3,
   "id": "b191338e",
   "metadata": {},
   "outputs": [],
   "source": [
    "# Base Url for \n",
    "url = \"https://api.usa.gov/crime/fbi/cde/\"\n"
   ]
  },
  {
   "cell_type": "code",
   "execution_count": 4,
   "id": "9a795b03",
   "metadata": {},
   "outputs": [
    {
     "name": "stdout",
     "output_type": "stream",
     "text": [
      "https://api.usa.gov/crime/fbi/cde/agency/byStateAbbr/NC?API_KEY=VZapwhFihrweB1CK2Aorx06jomfZ97WTTsx2lpjX\n"
     ]
    }
   ],
   "source": [
    "# Agency Query Url\n",
    "query = \"byStateAbbr\"\n",
    "value = \"NC\"\n",
    "agency_query_url = url + \"agency/\" + query + \"/\" + value + \"?API_KEY=\" + api_key\n",
    "\n",
    "print(agency_query_url)"
   ]
  },
  {
   "cell_type": "code",
   "execution_count": 5,
   "id": "93b0f5f0",
   "metadata": {},
   "outputs": [],
   "source": [
    "# Get AGENCY data\n",
    "agency_response = requests.get(agency_query_url)\n",
    "agency_response_json = agency_response.json()\n",
    "\n",
    "# Get the JSON format\n",
    "#pprint(agency_response_json)"
   ]
  },
  {
   "cell_type": "code",
   "execution_count": 6,
   "id": "effd3823-25c6-42d4-9205-9d779a7e992d",
   "metadata": {},
   "outputs": [
    {
     "name": "stdout",
     "output_type": "stream",
     "text": [
      "List of ORIs: ['NC0010000', 'NC0010100', 'NC0010200', 'NC0010300', 'NC0010400', 'NC0010500', 'NC001069E', 'NC0020000', 'NC0020100', 'NC0030000', 'NC0030100', 'NC0030200', 'NC0040000', 'NC0040100', 'NC0040200', 'NC0040300', 'NC0040400', 'NC0050000', 'NC0050100', 'NC0050200', 'NC0050300', 'NC0060000', 'NC0060100', 'NC0060200', 'NC0060400', 'NC0060500', 'NC0060600', 'NC0060900', 'NC0070000', 'NC0070100', 'NC0070200', 'NC0070300', 'NC0070400', 'NC0070500', 'NC0070600', 'NC0075000', 'NC0080000', 'NC0080100', 'NC0080200', 'NC0080300', 'NC0090000', 'NC0090100', 'NC0090300', 'NC0090400', 'NC0090700', 'NC0090800', 'NC0100000', 'NC0100100', 'NC0100200', 'NC0100300', 'NC0100400', 'NC0100500', 'NC0100700', 'NC0100800', 'NC0101000', 'NC0101100', 'NC0101300', 'NC0101400', 'NC0101600', 'NC0110000', 'NC0110100', 'NC0110200', 'NC0110300', 'NC0110400', 'NC0110500', 'NC0110600', 'NC0110700', 'NC0110800', 'NC0110900', 'NC0111300', 'NC0120000', 'NC0120100', 'NC0120200', 'NC0120300', 'NC0120400', 'NC0120700', 'NC0130000', 'NC0130100', 'NC0130200', 'NC0140000', 'NC0140100', 'NC0140200', 'NC0140300', 'NC0140400', 'NC0150000', 'NC0151000', 'NC0160000', 'NC0160100', 'NC0160200', 'NC0160300', 'NC0160400', 'NC0160500', 'NC0160600', 'NC0160700', 'NC0160800', 'NC0160900', 'NC0161100', 'NC0170000', 'NC0180000', 'NC0180100', 'NC0180200', 'NC0180300', 'NC0180400', 'NC0180500', 'NC0180600', 'NC0180700', 'NC0180800', 'NC0190000', 'NC0190100', 'NC0190200', 'NC0200000', 'NC0200100', 'NC0200200', 'NC0210000', 'NC0210100', 'NC0220000', 'NC0230000', 'NC0230100', 'NC0230200', 'NC0230300', 'NC0230800', 'NC0240000', 'NC0240200', 'NC0240300', 'NC0240400', 'NC0240500', 'NC0240600', 'NC0241200', 'NC0250000', 'NC0250100', 'NC0250200', 'NC0250300', 'NC0250400', 'NC0250600', 'NC0250700', 'NC0260000', 'NC0260100', 'NC0260200', 'NC0260300', 'NC0260400', 'NC026089E', 'NC0261200', 'NC0270000', 'NC0280000', 'NC0280100', 'NC0280200', 'NC0280300', 'NC0280400', 'NC0280500', 'NC0280600', 'NC0280700', 'NC0290000', 'NC0290100', 'NC0290200', 'NC0300000', 'NC0300200', 'NC0310000', 'NC0310100', 'NC0310200', 'NC0310400', 'NC0310500', 'NC0310600', 'NC0310700', 'NC0320000', 'NC0320100', 'NC0320200', 'NC032039E', 'NC0320400', 'NC0325000', 'NC0330000', 'NC0330100', 'NC0330200', 'NC0330400', 'NC0340000', 'NC0340100', 'NC0340200', 'NC0340300', 'NC034049E', 'NC0340600', 'NC0345500', 'NC0350000', 'NC0350100', 'NC0350200', 'NC0350300', 'NC0350400', 'NC035069P', 'NC0360000', 'NC0360100', 'NC0360200', 'NC0360300', 'NC0360400', 'NC0360500', 'NC0360600', 'NC0360700', 'NC0360800', 'NC0360900', 'NC0361100', 'NC0361200', 'NC036149E', 'NC0370000', 'NC0370200', 'NC0380000', 'NC0390000', 'NC0390100', 'NC0390200', 'NC0390300', 'NC0400000', 'NC0400200', 'NC0410000', 'NC0410100', 'NC0410200', 'NC0410300', 'NC0410400', 'NC0410500', 'NC0410600', 'NC0420000', 'NC0420100', 'NC0420200', 'NC0420300', 'NC0420600', 'NC0420700', 'NC0420800', 'NC0430000', 'NC0430100', 'NC0430200', 'NC0430300', 'NC0430400', 'NC0430500', 'NC0430600', 'NC0440000', 'NC0440100', 'NC0440200', 'NC0440500', 'NC0450000', 'NC0450100', 'NC0450200', 'NC0450300', 'NC0460000', 'NC0460100', 'NC0460200', 'NC0460300', 'NC0470000', 'NC0470100', 'NC0480000', 'NC0490000', 'NC0490100', 'NC0490200', 'NC0490400', 'NC0490700', 'NC0500000', 'NC0500100', 'NC0500200', 'NC0510000', 'NC0510100', 'NC0510200', 'NC0510300', 'NC0510400', 'NC0510500', 'NC0510600', 'NC0510700', 'NC0510800', 'NC0510900', 'NC0511400', 'NC0520000', 'NC0520200', 'NC0530000', 'NC0530100', 'NC0530200', 'NC0540000', 'NC0540100', 'NC0540300', 'NC0550000', 'NC0550100', 'NC0560000', 'NC0560100', 'NC0560200', 'NC0560300', 'NC0570000', 'NC0570100', 'NC0570200', 'NC0580000', 'NC0580100', 'NC0580200', 'NC0580300', 'NC0590000', 'NC0590100', 'NC0590600', 'NC0600100', 'NC0600300', 'NC0600400', 'NC0600500', 'NC0600600', 'NC0600700', 'NC0600800', 'NC060149E', 'NC060189E', 'NC0602900', 'NC0610000', 'NC0610100', 'NC0610200', 'NC0620000', 'NC0620100', 'NC0620200', 'NC0620300', 'NC0620400', 'NC0620500', 'NC0630000', 'NC0630100', 'NC0630200', 'NC0630300', 'NC0630400', 'NC0630500', 'NC0630600', 'NC0630700', 'NC0630800', 'NC0630900', 'NC0631000', 'NC0631100', 'NC0631300', 'NC0640000', 'NC0640100', 'NC0640200', 'NC0640300', 'NC0640500', 'NC0640600', 'NC0640700', 'NC0645000', 'NC0650000', 'NC0650100', 'NC0650200', 'NC0650300', 'NC0650400', 'NC0650500', 'NC0650600', 'NC0650800', 'NC0651000', 'NC0660000', 'NC0660100', 'NC0660200', 'NC0660300', 'NC0660400', 'NC0660600', 'NC0660800', 'NC0670000', 'NC0670100', 'NC0670200', 'NC0670300', 'NC0670400', 'NC0670700', 'NC0670800', 'NC0680000', 'NC0680100', 'NC0680200', 'NC0680300', 'NC0680400', 'NC0680500', 'NC0690000', 'NC0690200', 'NC0700000', 'NC0700100', 'NC0700200', 'NC0710000', 'NC0710100', 'NC0710200', 'NC0710300', 'NC0720000', 'NC0720200', 'NC0730000', 'NC0730100', 'NC0740000', 'NC0740100', 'NC0740200', 'NC0740300', 'NC0740400', 'NC0740600', 'NC0740800', 'NC0740900', 'NC0750000', 'NC0750100', 'NC0750200', 'NC0750300', 'NC0760000', 'NC0760100', 'NC0760300', 'NC0760400', 'NC0760500', 'NC0760600', 'NC0760700', 'NC0770000', 'NC0770200', 'NC0770300', 'NC0780000', 'NC0780100', 'NC0780200', 'NC0780300', 'NC0780400', 'NC0780500', 'NC0780600', 'NC0780700', 'NC0780800', 'NC0780900', 'NC0781000', 'NC0790000', 'NC0790100', 'NC0790300', 'NC0790400', 'NC0790500', 'NC0790700', 'NC0790800', 'NC0791000', 'NC0800000', 'NC0800100', 'NC0800200', 'NC0800300', 'NC0800500', 'NC0800600', 'NC0800700', 'NC0800800', 'NC0800900', 'NC0810000', 'NC0810100', 'NC0810200', 'NC0810300', 'NC0810400', 'NC0810600', 'NC0820000', 'NC0820100', 'NC0820300', 'NC0820500', 'NC0830000', 'NC0830100', 'NC0830300', 'NC0840000', 'NC0840100', 'NC0840200', 'NC0840300', 'NC0840400', 'NC0840500', 'NC0840600', 'NC0840700', 'NC0840800', 'NC0850000', 'NC0850300', 'NC0850400', 'NC0860000', 'NC0860100', 'NC0860200', 'NC0860300', 'NC0860400', 'NC0860600', 'NC0870000', 'NC0870100', 'NC0870200', 'NC0880000', 'NC0880100', 'NC0880200', 'NC0890000', 'NC0900000', 'NC0900100', 'NC0900200', 'NC0900300', 'NC0900400', 'NC0900500', 'NC0910000', 'NC0910100', 'NC0910500', 'NC0920000', 'NC0920100', 'NC0920200', 'NC0920300', 'NC0920400', 'NC0920500', 'NC0920600', 'NC0920700', 'NC0920800', 'NC0920900', 'NC092109E', 'NC0921100', 'NC0921200', 'NC0921300', 'NC0921500', 'NC0921600', 'NC0921700', 'NC0922100', 'NC0922400', 'NC0922600', 'NC0922700', 'NC0922800', 'NC092339E', 'NC0923500', 'NC0925200', 'NC0929000', 'NC0930000', 'NC0930100', 'NC0930200', 'NC0940000', 'NC0940100', 'NC0940400', 'NC0950000', 'NC0950100', 'NC0950200', 'NC0950300', 'NC0950400', 'NC0951000', 'NC0960000', 'NC0960100', 'NC0960300', 'NC0960400', 'NC0960500', 'NC0960700', 'NC0960800', 'NC0960900', 'NC0970000', 'NC0970100', 'NC0970200', 'NC0980000', 'NC0980100', 'NC0980200', 'NC0980600', 'NC0990000', 'NC0990100', 'NC0990200', 'NC0990300', 'NC0990400', 'NC1000000', 'NC1000100', 'NC1000200', 'NCBCI0000', 'NCNHP0000', 'NCWLF0000']\n"
     ]
    }
   ],
   "source": [
    "ori_list = [agency['ori'] for agency in agency_response_json]\n",
    "#print(\"List of ORIs:\", ori_list)"
   ]
  },
  {
   "cell_type": "code",
   "execution_count": 8,
   "id": "6064fc6d-da7e-46e3-889a-9a94691b51c3",
   "metadata": {},
   "outputs": [],
   "source": [
    "offense = \"violent-crime\"\n",
    "start_year = \"2013\"\n",
    "end_year = \"2023\"\n",
    "crime_responses = []\n",
    "for ori in ori_list:\n",
    "    target_url = url + f\"summarized/agency/{ori}/{offense}?from={start_year}&to={end_year}&API_KEY={api_key}\"\n",
    "\n",
    "    #print(target_url)\n",
    "    responses = requests.get(target_url)\n",
    "    responses_json = responses.json()\n",
    "    crime_responses.append(responses_json)\n",
    "# Get the JSON format\n"
   ]
  },
  {
   "cell_type": "code",
   "execution_count": 9,
   "id": "0bcf87bc",
   "metadata": {},
   "outputs": [
    {
     "name": "stdout",
     "output_type": "stream",
     "text": [
      "         ori  data_year        offense  cleared  actual\n",
      "0  NC0010000       2013  violent-crime       84     109\n",
      "1  NC0010000       2014  violent-crime       81     123\n",
      "2  NC0010000       2015  violent-crime       97     114\n",
      "3  NC0010000       2016  violent-crime       77      95\n",
      "4  NC0010000       2017  violent-crime       34      46\n"
     ]
    }
   ],
   "source": [
    "crime_df = pd.DataFrame()\n",
    "for responses_json in crime_responses:\n",
    "    #crime_data = responses_json.get('output', [])\n",
    "    crime_data_df = pd.DataFrame(responses_json)\n",
    "    crime_df = pd.concat([crime_df, crime_data_df], ignore_index=True)\n",
    "print(crime_df.head())\n"
   ]
  },
  {
   "cell_type": "code",
   "execution_count": 11,
   "id": "ec368d26",
   "metadata": {},
   "outputs": [
    {
     "name": "stdout",
     "output_type": "stream",
     "text": [
      "         ori                       agency_name  agency_id      state_name  \\\n",
      "0  NC0010000  Alamance County Sheriff's Office      10873  North Carolina   \n",
      "1  NC0010000  Alamance County Sheriff's Office      10873  North Carolina   \n",
      "2  NC0010000  Alamance County Sheriff's Office      10873  North Carolina   \n",
      "3  NC0010000  Alamance County Sheriff's Office      10873  North Carolina   \n",
      "4  NC0010000  Alamance County Sheriff's Office      10873  North Carolina   \n",
      "\n",
      "  state_abbr   division_name region_name region_desc county_name  \\\n",
      "0         NC  South Atlantic       South  Region III    ALAMANCE   \n",
      "1         NC  South Atlantic       South  Region III    ALAMANCE   \n",
      "2         NC  South Atlantic       South  Region III    ALAMANCE   \n",
      "3         NC  South Atlantic       South  Region III    ALAMANCE   \n",
      "4         NC  South Atlantic       South  Region III    ALAMANCE   \n",
      "\n",
      "  agency_type_name  nibrs          nibrs_start_date   latitude   longitude  \\\n",
      "0           County   True  2019-01-01T00:00:00.000Z  36.041974  -79.399935   \n",
      "1           County   True  2019-01-01T00:00:00.000Z  36.041974  -79.399935   \n",
      "2           County   True  2019-01-01T00:00:00.000Z  36.041974  -79.399935   \n",
      "3           County   True  2019-01-01T00:00:00.000Z  36.041974  -79.399935   \n",
      "4           County   True  2019-01-01T00:00:00.000Z  36.041974  -79.399935   \n",
      "\n",
      "   data_year        offense  cleared  actual  \n",
      "0       2013  violent-crime       84     109  \n",
      "1       2014  violent-crime       81     123  \n",
      "2       2015  violent-crime       97     114  \n",
      "3       2016  violent-crime       77      95  \n",
      "4       2017  violent-crime       34      46  \n"
     ]
    }
   ],
   "source": [
    "#Creating Data frames\n",
    "agency_df = pd.DataFrame(agency_response_json)\n",
    "#crime_df = pd.DataFrame(crime_response_json['output'])\n",
    "\n",
    "#Merging the 2 dataframes together\n",
    "merge_df = pd.merge(agency_df, crime_df, on='ori', how='inner')\n",
    "print(merge_df.head())\n",
    "merge_df.to_csv(\"Output/merged_data.csv\", index_label=\"\")"
   ]
  },
  {
   "cell_type": "code",
   "execution_count": null,
   "id": "0a5d7b17-9dca-4fd6-ac2d-c220f08bc45e",
   "metadata": {},
   "outputs": [],
   "source": []
  }
 ],
 "metadata": {
  "kernelspec": {
   "display_name": "Python 3 (ipykernel)",
   "language": "python",
   "name": "python3"
  },
  "language_info": {
   "codemirror_mode": {
    "name": "ipython",
    "version": 3
   },
   "file_extension": ".py",
   "mimetype": "text/x-python",
   "name": "python",
   "nbconvert_exporter": "python",
   "pygments_lexer": "ipython3",
   "version": "3.11.5"
  }
 },
 "nbformat": 4,
 "nbformat_minor": 5
}

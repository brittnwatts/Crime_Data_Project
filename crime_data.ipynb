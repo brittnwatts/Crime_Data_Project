{
 "cells": [
  {
   "cell_type": "code",
   "execution_count": 1,
   "id": "f5f60934",
   "metadata": {},
   "outputs": [],
   "source": [
    "# Imports\n",
    "import requests\n",
    "import json\n",
    "from pprint import pprint\n",
    "from config import api_key"
   ]
  },
  {
   "cell_type": "code",
   "execution_count": 2,
   "id": "98a348a1",
   "metadata": {},
   "outputs": [],
   "source": [
    "# Imports for calculations\n",
    "import pandas as pd\n",
    "import numpy as np"
   ]
  },
  {
   "cell_type": "code",
   "execution_count": 3,
   "id": "b191338e",
   "metadata": {},
   "outputs": [],
   "source": [
    "# Base Url for \n",
    "url = \"https://api.usa.gov/crime/fbi/cde/\"\n"
   ]
  },
  {
   "cell_type": "code",
   "execution_count": 4,
   "id": "9a795b03",
   "metadata": {},
   "outputs": [
    {
     "name": "stdout",
     "output_type": "stream",
     "text": [
      "https://api.usa.gov/crime/fbi/cde/agency/byStateAbbr/NC?API_KEY=VZapwhFihrweB1CK2Aorx06jomfZ97WTTsx2lpjX\n"
     ]
    }
   ],
   "source": [
    "# Agency Query Url\n",
    "query = \"byStateAbbr\"\n",
    "value = \"NC\"\n",
    "agency_query_url = url + \"agency/\" + query + \"/\" + value + \"?API_KEY=\" + api_key\n",
    "\n",
    "print(agency_query_url)"
   ]
  },
  {
   "cell_type": "code",
   "execution_count": 5,
   "id": "93b0f5f0",
   "metadata": {},
   "outputs": [],
   "source": [
    "# Get AGENCY data\n",
    "agency_response = requests.get(agency_query_url)\n",
    "agency_response_json = agency_response.json()\n",
    "\n",
    "# Get the JSON format\n",
    "#pprint(agency_response_json)"
   ]
  },
  {
   "cell_type": "code",
   "execution_count": 6,
   "id": "effd3823-25c6-42d4-9205-9d779a7e992d",
   "metadata": {},
   "outputs": [],
   "source": [
    "ori_list = [agency['ori'] for agency in agency_response_json]\n",
    "#print(\"List of ORIs:\", ori_list)"
   ]
  },
  {
   "cell_type": "code",
   "execution_count": 7,
   "id": "6064fc6d-da7e-46e3-889a-9a94691b51c3",
   "metadata": {},
   "outputs": [],
   "source": [
    "offense = \"violent-crime\"\n",
    "start_year = \"2013\"\n",
    "end_year = \"2023\"\n",
    "crime_responses = []\n",
    "for ori in ori_list:\n",
    "    target_url = url + f\"summarized/agency/{ori}/{offense}?from={start_year}&to={end_year}&API_KEY={api_key}\"\n",
    "\n",
    "    #print(target_url)\n",
    "    responses = requests.get(target_url)\n",
    "    responses_json = responses.json()\n",
    "    crime_responses.append(responses_json)\n",
    "# Get the JSON format\n"
   ]
  },
  {
   "cell_type": "code",
   "execution_count": 8,
   "id": "0bcf87bc",
   "metadata": {},
   "outputs": [
    {
     "name": "stdout",
     "output_type": "stream",
     "text": [
      "         ori  data_year        offense  cleared  actual\n",
      "0  NC0010000       2013  violent-crime       84     109\n",
      "1  NC0010000       2014  violent-crime       81     123\n",
      "2  NC0010000       2015  violent-crime       97     114\n",
      "3  NC0010000       2016  violent-crime       77      95\n",
      "4  NC0010000       2017  violent-crime       34      46\n"
     ]
    }
   ],
   "source": [
    "crime_df = pd.DataFrame()\n",
    "for responses_json in crime_responses:\n",
    "    #crime_data = responses_json.get('output', [])\n",
    "    crime_data_df = pd.DataFrame(responses_json)\n",
    "    crime_df = pd.concat([crime_df, crime_data_df], ignore_index=True)\n",
    "print(crime_df.head())\n"
   ]
  },
  {
   "cell_type": "code",
   "execution_count": 9,
   "id": "ec368d26",
   "metadata": {},
   "outputs": [
    {
     "name": "stdout",
     "output_type": "stream",
     "text": [
      "         ori                       agency_name  agency_id      state_name  \\\n",
      "0  NC0010000  Alamance County Sheriff's Office      10873  North Carolina   \n",
      "1  NC0010000  Alamance County Sheriff's Office      10873  North Carolina   \n",
      "2  NC0010000  Alamance County Sheriff's Office      10873  North Carolina   \n",
      "3  NC0010000  Alamance County Sheriff's Office      10873  North Carolina   \n",
      "4  NC0010000  Alamance County Sheriff's Office      10873  North Carolina   \n",
      "\n",
      "  state_abbr   division_name region_name region_desc county_name  \\\n",
      "0         NC  South Atlantic       South  Region III    ALAMANCE   \n",
      "1         NC  South Atlantic       South  Region III    ALAMANCE   \n",
      "2         NC  South Atlantic       South  Region III    ALAMANCE   \n",
      "3         NC  South Atlantic       South  Region III    ALAMANCE   \n",
      "4         NC  South Atlantic       South  Region III    ALAMANCE   \n",
      "\n",
      "  agency_type_name  nibrs          nibrs_start_date   latitude   longitude  \\\n",
      "0           County   True  2019-01-01T00:00:00.000Z  36.041974  -79.399935   \n",
      "1           County   True  2019-01-01T00:00:00.000Z  36.041974  -79.399935   \n",
      "2           County   True  2019-01-01T00:00:00.000Z  36.041974  -79.399935   \n",
      "3           County   True  2019-01-01T00:00:00.000Z  36.041974  -79.399935   \n",
      "4           County   True  2019-01-01T00:00:00.000Z  36.041974  -79.399935   \n",
      "\n",
      "   data_year        offense  cleared  actual  \n",
      "0       2013  violent-crime       84     109  \n",
      "1       2014  violent-crime       81     123  \n",
      "2       2015  violent-crime       97     114  \n",
      "3       2016  violent-crime       77      95  \n",
      "4       2017  violent-crime       34      46  \n"
     ]
    }
   ],
   "source": [
    "#Creating Data frames\n",
    "agency_df = pd.DataFrame(agency_response_json)\n",
    "#crime_df = pd.DataFrame(crime_response_json['output'])\n",
    "\n",
    "#Merging the 2 dataframes together\n",
    "merge_df = pd.merge(agency_df, crime_df, on='ori', how='inner')\n",
    "print(merge_df.head())\n",
    "merge_df.to_csv(\"Output/merged_data.csv\", index_label=\"\")"
   ]
  },
  {
   "cell_type": "code",
   "execution_count": null,
   "id": "0a5d7b17-9dca-4fd6-ac2d-c220f08bc45e",
   "metadata": {},
   "outputs": [],
   "source": []
  }
 ],
 "metadata": {
  "kernelspec": {
   "display_name": "Python 3 (ipykernel)",
   "language": "python",
   "name": "python3"
  },
  "language_info": {
   "codemirror_mode": {
    "name": "ipython",
    "version": 3
   },
   "file_extension": ".py",
   "mimetype": "text/x-python",
   "name": "python",
   "nbconvert_exporter": "python",
   "pygments_lexer": "ipython3",
   "version": "3.10.13"
  }
 },
 "nbformat": 4,
 "nbformat_minor": 5
}

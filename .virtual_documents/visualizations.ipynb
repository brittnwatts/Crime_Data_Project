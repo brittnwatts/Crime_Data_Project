import requests
import json
from pprint import pprint
from config import api_key
import matplotlib.pyplot as plt


# Imports for calculations
import pandas as pd
import matplotlib.pyplot as plt
import seaborn as sns


# Load the CSV file created in Part 1 into a Pandas DataFrame
merged_data_df = pd.read_csv("Output/merged_data.csv")

# Display sample data
merged_data_df.head()


yearly_total_actual = merged_data_df.groupby("data_year")['actual'].sum()
yearly_total_cleared = merged_data_df.groupby("data_year")['cleared'].sum()
yearly_solve_rate = yearly_total_cleared/yearly_total_actual
yearly_crimes_summary_df = pd.DataFrame({
    "Total Crimes Commited Per Year": yearly_total_actual,
    "Total Crimes Solved Per Year": yearly_total_cleared,
    "Solve Rate Per Year": yearly_solve_rate
})
yearly_crimes_summary_df


# Total crimes committed and solved over time 
#yearly_crimes_summary_df = yearly_crimes_summary_df.reset_index()

plt.figure(figsize=(10, 6))
bar_width = 0.4  # Adjust this value as needed
bar_positions = merged_data_df['data_year'].unique()
plt.bar(bar_positions - bar_width/2, yearly_crimes_summary_df["Total Crimes Commited Per Year"], width=bar_width, label="Total Crimes Commited")
plt.bar(bar_positions + bar_width/2, yearly_crimes_summary_df["Total Crimes Solved Per Year"], width=bar_width, label="Total Crimes Solved")
plt.title("Total Crimes Committed and Solved Over Time")
plt.xticks(bar_positions)
plt.xlabel("Year")
plt.ylabel("Number of Crimes")
plt.legend(loc="upper left")  # Adjust the location as needed
plt.grid(True)
plt.show()


# Solve rate per year
plt.figure(figsize=(10, 6))
plt.plot(yearly_crimes_summary_df.index, yearly_crimes_summary_df["Solve Rate Per Year"])
plt.title("Solve Rate Per Year")
plt.xlabel("Year")
plt.ylabel("Solve Rate")
plt.grid()
plt.show()



